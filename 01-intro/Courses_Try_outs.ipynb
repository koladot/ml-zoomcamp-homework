{
 "cells": [
  {
   "cell_type": "code",
   "execution_count": 1,
   "id": "94c30099-a673-491f-a4f0-f5248e97a1e5",
   "metadata": {},
   "outputs": [],
   "source": [
    "import numpy as np"
   ]
  },
  {
   "cell_type": "code",
   "execution_count": 2,
   "id": "e8b36e98-176c-461c-8da8-b05c30942e58",
   "metadata": {},
   "outputs": [
    {
     "data": {
      "text/plain": [
       "array([0., 0., 0., 0., 0., 0., 0., 0., 0., 0.])"
      ]
     },
     "execution_count": 2,
     "metadata": {},
     "output_type": "execute_result"
    }
   ],
   "source": [
    "np.zeros(10)"
   ]
  },
  {
   "cell_type": "code",
   "execution_count": 3,
   "id": "e4b2db71-8687-4d5e-89a1-ed40775fbfff",
   "metadata": {},
   "outputs": [
    {
     "data": {
      "text/plain": [
       "array([0, 1, 2, 3, 4, 5, 6, 7, 8, 9])"
      ]
     },
     "execution_count": 3,
     "metadata": {},
     "output_type": "execute_result"
    }
   ],
   "source": [
    "np.arange(10)"
   ]
  },
  {
   "cell_type": "code",
   "execution_count": 4,
   "id": "d77c6ece-7268-4b51-8097-3c50bed97fe8",
   "metadata": {},
   "outputs": [
    {
     "data": {
      "text/plain": [
       "array([3, 4, 5, 6, 7, 8, 9])"
      ]
     },
     "execution_count": 4,
     "metadata": {},
     "output_type": "execute_result"
    }
   ],
   "source": [
    "np.arange(3,10)"
   ]
  },
  {
   "cell_type": "code",
   "execution_count": 5,
   "id": "b13c623d-85f7-4a0a-ab4c-f4d6f32c2e9c",
   "metadata": {},
   "outputs": [],
   "source": [
    "n = np.array([\n",
    "    [1,2,3],\n",
    "    [2,3,4],\n",
    "    [3,4,5]]\n",
    ")"
   ]
  },
  {
   "cell_type": "code",
   "execution_count": 6,
   "id": "81477ab9-4462-4edb-a97e-423e93e32fe9",
   "metadata": {},
   "outputs": [
    {
     "data": {
      "text/plain": [
       "array([[1, 2, 3],\n",
       "       [2, 3, 4],\n",
       "       [3, 4, 5]])"
      ]
     },
     "execution_count": 6,
     "metadata": {},
     "output_type": "execute_result"
    }
   ],
   "source": [
    "n"
   ]
  },
  {
   "cell_type": "code",
   "execution_count": 7,
   "id": "21d12934-862e-4d5d-9d81-01518b0f6c99",
   "metadata": {},
   "outputs": [],
   "source": [
    "n[0,1] = 20"
   ]
  },
  {
   "cell_type": "code",
   "execution_count": 8,
   "id": "a38978c7-943c-47a6-be3c-2708ae0ad58e",
   "metadata": {},
   "outputs": [
    {
     "data": {
      "text/plain": [
       "array([  1.,  12.,  23.,  34.,  45.,  56.,  67.,  78.,  89., 100.])"
      ]
     },
     "execution_count": 8,
     "metadata": {},
     "output_type": "execute_result"
    }
   ],
   "source": [
    "np.linspace(1, 100, 10)"
   ]
  },
  {
   "cell_type": "code",
   "execution_count": 9,
   "id": "ea561f5a-153a-4027-91ba-e72ac6964d29",
   "metadata": {},
   "outputs": [
    {
     "data": {
      "text/plain": [
       "array([[ 1, 20,  3],\n",
       "       [ 2,  3,  4],\n",
       "       [ 3,  4,  5]])"
      ]
     },
     "execution_count": 9,
     "metadata": {},
     "output_type": "execute_result"
    }
   ],
   "source": [
    "n"
   ]
  },
  {
   "cell_type": "code",
   "execution_count": 10,
   "id": "eab20cdd-fd4f-478f-8576-a32b716c7c59",
   "metadata": {},
   "outputs": [],
   "source": [
    "n[2] = [10,20,30]"
   ]
  },
  {
   "cell_type": "code",
   "execution_count": 11,
   "id": "0f480f83-158d-4a09-8f1a-fe056512d849",
   "metadata": {},
   "outputs": [
    {
     "data": {
      "text/plain": [
       "array([[ 1, 20,  3],\n",
       "       [ 2,  3,  4],\n",
       "       [10, 20, 30]])"
      ]
     },
     "execution_count": 11,
     "metadata": {},
     "output_type": "execute_result"
    }
   ],
   "source": [
    "n"
   ]
  },
  {
   "cell_type": "code",
   "execution_count": 12,
   "id": "d26f5902-8537-4e83-af7c-e5d1bb7f00fb",
   "metadata": {},
   "outputs": [
    {
     "data": {
      "text/plain": [
       "array([20,  3, 20])"
      ]
     },
     "execution_count": 12,
     "metadata": {},
     "output_type": "execute_result"
    }
   ],
   "source": [
    "n[:, 1]"
   ]
  },
  {
   "cell_type": "code",
   "execution_count": 13,
   "id": "0b185385-d97a-494f-982b-c02a3e8e0993",
   "metadata": {},
   "outputs": [],
   "source": [
    "n[:, 1] = [1,2,3]"
   ]
  },
  {
   "cell_type": "code",
   "execution_count": 14,
   "id": "ea3fa308-3829-43ab-9859-6386ebd2a392",
   "metadata": {},
   "outputs": [
    {
     "data": {
      "text/plain": [
       "array([[ 1,  1,  3],\n",
       "       [ 2,  2,  4],\n",
       "       [10,  3, 30]])"
      ]
     },
     "execution_count": 14,
     "metadata": {},
     "output_type": "execute_result"
    }
   ],
   "source": [
    "n"
   ]
  },
  {
   "cell_type": "code",
   "execution_count": 15,
   "id": "f4e54195-814f-44f6-9c11-555478a31ac0",
   "metadata": {},
   "outputs": [
    {
     "data": {
      "text/plain": [
       "array([[0.30279818, 0.40091446],\n",
       "       [0.43790098, 0.51807188],\n",
       "       [0.25110869, 0.13626712],\n",
       "       [0.0073596 , 0.38662036],\n",
       "       [0.15415685, 0.24171963]])"
      ]
     },
     "execution_count": 15,
     "metadata": {},
     "output_type": "execute_result"
    }
   ],
   "source": [
    "np.random.rand(5,2)"
   ]
  },
  {
   "cell_type": "code",
   "execution_count": 16,
   "id": "5aaefca9-29a5-4675-a150-c57f5d3ecdad",
   "metadata": {},
   "outputs": [
    {
     "data": {
      "text/plain": [
       "array([0, 1, 2, 3, 4])"
      ]
     },
     "execution_count": 16,
     "metadata": {},
     "output_type": "execute_result"
    }
   ],
   "source": [
    "a = np.arange(5)\n",
    "a"
   ]
  },
  {
   "cell_type": "code",
   "execution_count": 17,
   "id": "b4ba5477-ff59-4aa1-8334-07972a9bccc5",
   "metadata": {},
   "outputs": [
    {
     "data": {
      "text/plain": [
       "array([1.  , 1.44, 1.96, 2.56, 3.24])"
      ]
     },
     "execution_count": 17,
     "metadata": {},
     "output_type": "execute_result"
    }
   ],
   "source": [
    "b = (10 + (a*2))**2 /100\n",
    "b"
   ]
  },
  {
   "cell_type": "code",
   "execution_count": 18,
   "id": "9fdb9570-fd22-4bda-a027-4820f76f1cad",
   "metadata": {},
   "outputs": [
    {
     "data": {
      "text/plain": [
       "array([10.        , 10.69444444, 11.02040816, 11.171875  , 11.2345679 ])"
      ]
     },
     "execution_count": 18,
     "metadata": {},
     "output_type": "execute_result"
    }
   ],
   "source": [
    "a / b + 10"
   ]
  },
  {
   "cell_type": "code",
   "execution_count": 19,
   "id": "316c2b28-f6fa-4f6e-8f21-dc68dbe516d9",
   "metadata": {},
   "outputs": [
    {
     "data": {
      "text/plain": [
       "array([False, False,  True,  True,  True])"
      ]
     },
     "execution_count": 19,
     "metadata": {},
     "output_type": "execute_result"
    }
   ],
   "source": [
    "a >= 2"
   ]
  },
  {
   "cell_type": "code",
   "execution_count": 20,
   "id": "83660984-9938-41a8-b9c8-39829ee628d3",
   "metadata": {},
   "outputs": [
    {
     "data": {
      "text/plain": [
       "array([False, False,  True,  True,  True])"
      ]
     },
     "execution_count": 20,
     "metadata": {},
     "output_type": "execute_result"
    }
   ],
   "source": [
    "a > b"
   ]
  },
  {
   "cell_type": "markdown",
   "id": "a65db4de-90b9-474c-898d-8486eca47891",
   "metadata": {},
   "source": [
    "Retuns all the elements for which a is higher than b"
   ]
  },
  {
   "cell_type": "code",
   "execution_count": 21,
   "id": "475f07bc-8b27-4868-9eac-bec7e9936827",
   "metadata": {},
   "outputs": [
    {
     "data": {
      "text/plain": [
       "array([2, 3, 4])"
      ]
     },
     "execution_count": 21,
     "metadata": {},
     "output_type": "execute_result"
    }
   ],
   "source": [
    "a[a>b]"
   ]
  },
  {
   "cell_type": "markdown",
   "id": "8db739bd-3ed2-40e2-92e5-735826b1b6f3",
   "metadata": {},
   "source": [
    "# Multiplication"
   ]
  },
  {
   "cell_type": "code",
   "execution_count": 22,
   "id": "c5949279",
   "metadata": {},
   "outputs": [],
   "source": [
    "u = np.array([2, 4, 5, 6])"
   ]
  },
  {
   "cell_type": "code",
   "execution_count": 28,
   "id": "f2111d1f",
   "metadata": {},
   "outputs": [
    {
     "data": {
      "text/plain": [
       "array([ 4,  8, 10, 12])"
      ]
     },
     "execution_count": 28,
     "metadata": {},
     "output_type": "execute_result"
    }
   ],
   "source": [
    "2* u"
   ]
  },
  {
   "cell_type": "code",
   "execution_count": 26,
   "id": "870b6e1b-56e4-4fa2-a060-02b29ec83f90",
   "metadata": {},
   "outputs": [],
   "source": [
    "v = np.array([1,0,0,2])"
   ]
  },
  {
   "cell_type": "code",
   "execution_count": 27,
   "id": "0197ad56-e5f0-47c6-b363-384df1431a2f",
   "metadata": {},
   "outputs": [
    {
     "data": {
      "text/plain": [
       "array([3, 4, 5, 8])"
      ]
     },
     "execution_count": 27,
     "metadata": {},
     "output_type": "execute_result"
    }
   ],
   "source": [
    "u+v"
   ]
  },
  {
   "cell_type": "code",
   "execution_count": 29,
   "id": "15122815-d1a6-447c-8643-5334906f2aba",
   "metadata": {},
   "outputs": [
    {
     "data": {
      "text/plain": [
       "array([ 2,  0,  0, 12])"
      ]
     },
     "execution_count": 29,
     "metadata": {},
     "output_type": "execute_result"
    }
   ],
   "source": [
    "u * v"
   ]
  },
  {
   "cell_type": "code",
   "execution_count": 41,
   "id": "f5e7fe37-86eb-4b14-a8a7-7d0948cea946",
   "metadata": {},
   "outputs": [],
   "source": [
    "def vector_vector_multiplication (u,v):\n",
    "    #ensure that both vectors have the same dimension\n",
    "    assert u.shape[0] == v.shape[0]\n",
    "    \n",
    "    # Setup initial values for the loop \n",
    "    n = u.shape[0]\n",
    "    result = 0.0\n",
    "\n",
    "    # Run the loop\n",
    "    for i in range(n):\n",
    "        result = result + u[i]*v[i]\n",
    "    return result\n"
   ]
  },
  {
   "cell_type": "code",
   "execution_count": 42,
   "id": "bb946fc9-a68d-4501-a746-9654c94c5c5f",
   "metadata": {},
   "outputs": [],
   "source": [
    "a = vector_vector_multiplication(u,v)"
   ]
  },
  {
   "cell_type": "code",
   "execution_count": 43,
   "id": "ba771f29-7395-457e-9577-77be05453d73",
   "metadata": {},
   "outputs": [
    {
     "data": {
      "text/plain": [
       "numpy.float64"
      ]
     },
     "execution_count": 43,
     "metadata": {},
     "output_type": "execute_result"
    }
   ],
   "source": [
    "type(a)"
   ]
  },
  {
   "cell_type": "code",
   "execution_count": 39,
   "id": "371b4d05-08b6-40ec-9b9b-7335f31423fc",
   "metadata": {},
   "outputs": [
    {
     "data": {
      "text/plain": [
       "np.int64(14)"
      ]
     },
     "execution_count": 39,
     "metadata": {},
     "output_type": "execute_result"
    }
   ],
   "source": [
    "b = u.dot(v)\n",
    "b"
   ]
  },
  {
   "cell_type": "code",
   "execution_count": 45,
   "id": "b84533c5-3b21-403c-8845-f2a4e6b4c211",
   "metadata": {},
   "outputs": [],
   "source": [
    "U = np.array([\n",
    "    [2,4,5,6],\n",
    "    [1,2,1,2],\n",
    "    [3,1,2,1]\n",
    "])"
   ]
  },
  {
   "cell_type": "code",
   "execution_count": 46,
   "id": "044b73b9-5dec-4e53-82f5-21375beb1164",
   "metadata": {},
   "outputs": [
    {
     "data": {
      "text/plain": [
       "array([[2, 4, 5, 6],\n",
       "       [1, 2, 1, 2],\n",
       "       [3, 1, 2, 1]])"
      ]
     },
     "execution_count": 46,
     "metadata": {},
     "output_type": "execute_result"
    }
   ],
   "source": [
    "U"
   ]
  },
  {
   "cell_type": "code",
   "execution_count": 53,
   "id": "62c5f250-b615-4df0-ae82-4ec34ad38152",
   "metadata": {},
   "outputs": [
    {
     "data": {
      "text/plain": [
       "4"
      ]
     },
     "execution_count": 53,
     "metadata": {},
     "output_type": "execute_result"
    }
   ],
   "source": [
    "U.shape[1]"
   ]
  },
  {
   "cell_type": "code",
   "execution_count": 54,
   "id": "fdca4036-564f-4b2f-a1e7-75fc99d9bddd",
   "metadata": {},
   "outputs": [],
   "source": [
    "def matrix_vector_multiplication (U,v):\n",
    "    #ensure that both vectors have the same dimension\n",
    "    assert U.shape[1] == v.shape[0]\n",
    "    \n",
    "    # Setup initial values for the loop \n",
    "    num_rows = U.shape[0]\n",
    "    result = np.zeros(num_rows)\n",
    "\n",
    "    # Run the loop for each row\n",
    "    for i in range(num_rows):\n",
    "        # Run the code to do a vector_vector multiplication using previous code\n",
    "        result[i] = vector_vector_multiplication(U[i],v)\n",
    "    return result\n"
   ]
  },
  {
   "cell_type": "code",
   "execution_count": 57,
   "id": "37dfb366-d786-4538-97f7-f3d1ab61c2d4",
   "metadata": {},
   "outputs": [
    {
     "data": {
      "text/plain": [
       "array([14.,  5.,  5.])"
      ]
     },
     "execution_count": 57,
     "metadata": {},
     "output_type": "execute_result"
    }
   ],
   "source": [
    "m = matrix_vector_multiplication (U,v)\n",
    "m"
   ]
  },
  {
   "cell_type": "code",
   "execution_count": 58,
   "id": "55e445f4-cc83-41ec-a791-7166a6ea64d7",
   "metadata": {},
   "outputs": [],
   "source": [
    "V = np.array([\n",
    "    [1,2,2],\n",
    "    [0,0.5,1],\n",
    "    [0,2,1],\n",
    "    [2,1,0]\n",
    "])"
   ]
  },
  {
   "cell_type": "code",
   "execution_count": 68,
   "id": "ea061bb9-f5ed-4900-ae33-ec9d2c65d9ca",
   "metadata": {},
   "outputs": [],
   "source": [
    "def matrix_matrix_multiplication (U,V):\n",
    "    #ensure that both vectors have the same dimension\n",
    "    assert U.shape[1] == V.shape[0]\n",
    "    \n",
    "    # Setup initial values for the loop \n",
    "    num_rows = U.shape[0]\n",
    "    num_columns = V.shape[1]\n",
    "    result = np.zeros((num_rows,num_columns))\n",
    "\n",
    "    # Run the loop for each row\n",
    "    for i in range(num_rows):\n",
    "        Vi = V[:,i]\n",
    "        # Run the code to do a vector_vector multiplication using previous code\n",
    "        result[:,i] = matrix_vector_multiplication(U,Vi)\n",
    "        \n",
    "    return result\n"
   ]
  },
  {
   "cell_type": "code",
   "execution_count": 69,
   "id": "cad2c86e-7d2e-481c-8993-b9451ac01fe6",
   "metadata": {},
   "outputs": [
    {
     "data": {
      "text/plain": [
       "np.float64(1.0)"
      ]
     },
     "execution_count": 69,
     "metadata": {},
     "output_type": "execute_result"
    }
   ],
   "source": [
    "V[0,0]"
   ]
  },
  {
   "cell_type": "code",
   "execution_count": 70,
   "id": "87fd847e-f35d-4ac1-a87b-79bfe7bbb086",
   "metadata": {},
   "outputs": [
    {
     "data": {
      "text/plain": [
       "array([[14. , 22. , 13. ],\n",
       "       [ 5. ,  7. ,  5. ],\n",
       "       [ 5. , 11.5,  9. ]])"
      ]
     },
     "execution_count": 70,
     "metadata": {},
     "output_type": "execute_result"
    }
   ],
   "source": [
    "matrix_matrix_multiplication (U,V)"
   ]
  },
  {
   "cell_type": "code",
   "execution_count": 71,
   "id": "ddaa5805-2712-49a9-a655-93a0189f305f",
   "metadata": {},
   "outputs": [
    {
     "data": {
      "text/plain": [
       "array([[14. , 22. , 13. ],\n",
       "       [ 5. ,  7. ,  5. ],\n",
       "       [ 5. , 11.5,  9. ]])"
      ]
     },
     "execution_count": 71,
     "metadata": {},
     "output_type": "execute_result"
    }
   ],
   "source": [
    "U.dot(V)"
   ]
  },
  {
   "cell_type": "markdown",
   "id": "2aa02e8e-d215-44e8-8533-c187d99cf0da",
   "metadata": {},
   "source": [
    "# Identity Matrix"
   ]
  },
  {
   "cell_type": "code",
   "execution_count": 72,
   "id": "ed056c9c-9764-425d-b1fb-7a7d58073ba0",
   "metadata": {},
   "outputs": [
    {
     "data": {
      "text/plain": [
       "array([[1., 0., 0., 0., 0., 0., 0., 0., 0., 0.],\n",
       "       [0., 1., 0., 0., 0., 0., 0., 0., 0., 0.],\n",
       "       [0., 0., 1., 0., 0., 0., 0., 0., 0., 0.],\n",
       "       [0., 0., 0., 1., 0., 0., 0., 0., 0., 0.],\n",
       "       [0., 0., 0., 0., 1., 0., 0., 0., 0., 0.],\n",
       "       [0., 0., 0., 0., 0., 1., 0., 0., 0., 0.],\n",
       "       [0., 0., 0., 0., 0., 0., 1., 0., 0., 0.],\n",
       "       [0., 0., 0., 0., 0., 0., 0., 1., 0., 0.],\n",
       "       [0., 0., 0., 0., 0., 0., 0., 0., 1., 0.],\n",
       "       [0., 0., 0., 0., 0., 0., 0., 0., 0., 1.]])"
      ]
     },
     "execution_count": 72,
     "metadata": {},
     "output_type": "execute_result"
    }
   ],
   "source": [
    "np.eye(10)"
   ]
  },
  {
   "cell_type": "markdown",
   "id": "e7d0b37f-24a6-492b-9ca3-cc843be0d564",
   "metadata": {},
   "source": [
    "# Inverse Matrix"
   ]
  },
  {
   "cell_type": "code",
   "execution_count": 77,
   "id": "0e0f0cd6-dab2-4dbf-a2a5-15cfbf851af7",
   "metadata": {},
   "outputs": [
    {
     "data": {
      "text/plain": [
       "array([[1. , 2. , 2. ],\n",
       "       [0. , 0.5, 1. ],\n",
       "       [0. , 2. , 1. ]])"
      ]
     },
     "execution_count": 77,
     "metadata": {},
     "output_type": "execute_result"
    }
   ],
   "source": [
    "# Create a Square matrix by taking the 3 first rows of the V matrix previously created\n",
    "Vs = V [[0,1,2]]\n",
    "Vs"
   ]
  },
  {
   "cell_type": "code",
   "execution_count": 78,
   "id": "8b475e8e-6a82-4ab7-827b-dfa440a91be5",
   "metadata": {},
   "outputs": [
    {
     "data": {
      "text/plain": [
       "array([[ 1.        , -1.33333333, -0.66666667],\n",
       "       [ 0.        , -0.66666667,  0.66666667],\n",
       "       [ 0.        ,  1.33333333, -0.33333333]])"
      ]
     },
     "execution_count": 78,
     "metadata": {},
     "output_type": "execute_result"
    }
   ],
   "source": [
    "Vs1 = np.linalg.inv(Vs)\n",
    "Vs1"
   ]
  },
  {
   "cell_type": "code",
   "execution_count": 79,
   "id": "c2f8d231-ab7a-4287-bc66-7ab7f2bf382d",
   "metadata": {},
   "outputs": [
    {
     "data": {
      "text/plain": [
       "array([[1., 0., 0.],\n",
       "       [0., 1., 0.],\n",
       "       [0., 0., 1.]])"
      ]
     },
     "execution_count": 79,
     "metadata": {},
     "output_type": "execute_result"
    }
   ],
   "source": [
    "# Let's multiply Vs and it's inverser to see if we have the identity matrix\n",
    "Vs.dot(Vs1)"
   ]
  },
  {
   "cell_type": "code",
   "execution_count": null,
   "id": "96469813-48ac-4108-aad6-b1eb2d551cad",
   "metadata": {},
   "outputs": [],
   "source": []
  }
 ],
 "metadata": {
  "kernelspec": {
   "display_name": "Python 3 (ipykernel)",
   "language": "python",
   "name": "python3"
  },
  "language_info": {
   "codemirror_mode": {
    "name": "ipython",
    "version": 3
   },
   "file_extension": ".py",
   "mimetype": "text/x-python",
   "name": "python",
   "nbconvert_exporter": "python",
   "pygments_lexer": "ipython3",
   "version": "3.12.1"
  }
 },
 "nbformat": 4,
 "nbformat_minor": 5
}
